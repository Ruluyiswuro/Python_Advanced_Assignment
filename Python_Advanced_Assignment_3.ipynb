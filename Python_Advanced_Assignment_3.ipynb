{
 "cells": [
  {
   "cell_type": "markdown",
   "id": "e6aae5e4",
   "metadata": {},
   "source": [
    "# Python Advanced Assignment 3"
   ]
  },
  {
   "cell_type": "markdown",
   "id": "fe787ac3",
   "metadata": {},
   "source": [
    "# Q1. What is the concept of an abstract superclass?"
   ]
  },
  {
   "cell_type": "markdown",
   "id": "729c6bca",
   "metadata": {},
   "source": [
    "# Ans : \n",
    "An abstract class/superclass can be considered as a blueprint for other classes. It allows us to create a set of methods that must be created within any child classes built from the abstract class. A class which contains one or more methods is called an abstract class. Whereas, an abstract method has a declaration but does not have an implementation."
   ]
  },
  {
   "cell_type": "code",
   "execution_count": 1,
   "id": "8986616d",
   "metadata": {},
   "outputs": [],
   "source": [
    "from abc import ABC, abstractmethod\n",
    "class Polygon(ABC) :\n",
    "    @abstractmethod\n",
    "    def no_of_sidess(self):\n",
    "        pass\n",
    "class Triangle(Polygon):\n",
    "    def no_of_sides(self):\n",
    "        print(\"There are 3 sides\")\n",
    "class Pentagon(Polygon):\n",
    "    def no_of_sides(self):\n",
    "        print(\"There are 5 sides\")"
   ]
  },
  {
   "cell_type": "markdown",
   "id": "5553f859",
   "metadata": {},
   "source": [
    "# Q2. What happens when a class statement's top level contains a basic assignment statement?\n"
   ]
  },
  {
   "cell_type": "markdown",
   "id": "b7626467",
   "metadata": {},
   "source": [
    "# Ans : \n",
    "When a class statement's top level contains a basic assignment statement, it is usually treated as a class attribute or class level variable where as assignment statement inside methods are treated as instance attributes or local attributes.\n",
    "When an instance of a class is created, a single copy of class attributes is maintained and shared to all instances of class where as each instance object maintains its own copy of instance variables.\n"
   ]
  },
  {
   "cell_type": "code",
   "execution_count": 2,
   "id": "9e480b4a",
   "metadata": {},
   "outputs": [],
   "source": [
    "class student:\n",
    "    batch = 2021\n",
    "    def __init__(self, name, dob):\n",
    "        self.name = name\n",
    "        self.dob = dob"
   ]
  },
  {
   "cell_type": "markdown",
   "id": "28345ab5",
   "metadata": {},
   "source": [
    "# Q3. Why does a class need to manually call a superclass's __init__ method?"
   ]
  },
  {
   "cell_type": "markdown",
   "id": "30e1019c",
   "metadata": {},
   "source": [
    "# Ans : \n",
    "If a child class has __ __init__ __ method,  then it will not inherit the __ __init__ __ method of the parent class, so we have to manually call a parent supreclass\"s __ __init__ __ using super() method."
   ]
  },
  {
   "cell_type": "code",
   "execution_count": 7,
   "id": "14e6de47",
   "metadata": {},
   "outputs": [
    {
     "name": "stdout",
     "output_type": "stream",
     "text": [
      "{'name': 'Ruluyi', 'age': 23, 'branch_id': 1009, 'salary': 20000}\n"
     ]
    }
   ],
   "source": [
    "class employee:\n",
    "    def __init__(self, name, age):\n",
    "        self.name = name\n",
    "        self.age = age\n",
    "class branch(employee):\n",
    "    def __init__ (self, name, age, branch_id, salary):\n",
    "        super().__init__(name,age)\n",
    "        self.branch_id = branch_id\n",
    "        self.salary = salary\n",
    "empy = branch('Ruluyi', 23, 1009, 20000)\n",
    "print(empy.__dict__)"
   ]
  },
  {
   "cell_type": "markdown",
   "id": "03f7a545",
   "metadata": {},
   "source": [
    "# Q4. How can you augment, instead of completely replacing, an inheritated method?"
   ]
  },
  {
   "cell_type": "markdown",
   "id": "cac24e2b",
   "metadata": {},
   "source": [
    "# Ans : \n",
    "super() method can be used to augment, instead of completely replacing, an inheritated method."
   ]
  },
  {
   "cell_type": "code",
   "execution_count": 8,
   "id": "0443c661",
   "metadata": {},
   "outputs": [
    {
     "name": "stdout",
     "output_type": "stream",
     "text": [
      "{'name': 'Ruluyi', 'age': 23, 'branch_id': 1009, 'salary': 20000}\n"
     ]
    }
   ],
   "source": [
    "class employee:\n",
    "    def __init__(self, name, age):\n",
    "        self.name = name\n",
    "        self.age = age\n",
    "class branch(employee):\n",
    "    def __init__ (self, name, age, branch_id, salary):\n",
    "        super().__init__(name,age)\n",
    "        self.branch_id = branch_id\n",
    "        self.salary = salary\n",
    "empy = branch('Ruluyi', 23, 1009, 20000)\n",
    "print(empy.__dict__)"
   ]
  },
  {
   "cell_type": "markdown",
   "id": "283a15ba",
   "metadata": {},
   "source": [
    "# Q5. How is the local scope of a class different from that of a function?"
   ]
  },
  {
   "cell_type": "markdown",
   "id": "0412757f",
   "metadata": {},
   "source": [
    "# Ans : \n",
    "A variable which is defined inside a function is local to that function. It is accessible from the point at which it is defined until the end of the function, and exist for as long as the function is existing.\n",
    "Similarly, a variable inside of a class also has a local variable scope. Variables which are defined in the class body (but outside all  methods) are called as class level variables or class attributes. They can be referenced by their bare names within the same scope, but they can also be accessed from this scope if we use the attribute access operator (.) on a class or an instanace of the class."
   ]
  },
  {
   "cell_type": "code",
   "execution_count": 11,
   "id": "a83e364f",
   "metadata": {},
   "outputs": [
    {
     "name": "stdout",
     "output_type": "stream",
     "text": [
      "Your name is Ruluyi\n",
      "Name is not available outside My_name function scope\n",
      "FSDS\n",
      "FSDS\n"
     ]
    }
   ],
   "source": [
    "def My_name(name):\n",
    "    name = name\n",
    "    print(f\"Your name is {name}\")\n",
    "My_name('Ruluyi')\n",
    "try: \n",
    "    name\n",
    "except NameError:\n",
    "    print(\"Name is not available outside My_name function scope\")\n",
    "class student:\n",
    "    course_name = \"FSDS\"\n",
    "    def __init__(self):\n",
    "        pass\n",
    "print(student.course_name)\n",
    "ineuron = student()\n",
    "print(ineuron.course_name)"
   ]
  },
  {
   "cell_type": "code",
   "execution_count": null,
   "id": "84557496",
   "metadata": {},
   "outputs": [],
   "source": []
  }
 ],
 "metadata": {
  "kernelspec": {
   "display_name": "Python 3 (ipykernel)",
   "language": "python",
   "name": "python3"
  },
  "language_info": {
   "codemirror_mode": {
    "name": "ipython",
    "version": 3
   },
   "file_extension": ".py",
   "mimetype": "text/x-python",
   "name": "python",
   "nbconvert_exporter": "python",
   "pygments_lexer": "ipython3",
   "version": "3.9.12"
  }
 },
 "nbformat": 4,
 "nbformat_minor": 5
}
